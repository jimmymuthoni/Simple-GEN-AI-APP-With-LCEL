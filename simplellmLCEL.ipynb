{
 "cells": [
  {
   "cell_type": "code",
   "execution_count": null,
   "id": "37457f2c",
   "metadata": {},
   "outputs": [],
   "source": [
    "import os\n",
    "from dotenv import load_dotenv\n",
    "load_dotenv()\n",
    "\n",
    "groq_api_key = os.getenv(\"GROQ_API_KEY\")"
   ]
  },
  {
   "cell_type": "code",
   "execution_count": null,
   "id": "7910ccab",
   "metadata": {},
   "outputs": [
    {
     "data": {
      "text/plain": [
       "ChatGroq(client=<groq.resources.chat.completions.Completions object at 0x0000016D8FA47460>, async_client=<groq.resources.chat.completions.AsyncCompletions object at 0x0000016D8FA75630>, model_name='gemma2-9b-it', model_kwargs={}, groq_api_key=SecretStr('**********'))"
      ]
     },
     "execution_count": 3,
     "metadata": {},
     "output_type": "execute_result"
    }
   ],
   "source": [
    "# Calling model\n",
    "from langchain_groq import ChatGroq\n",
    "\n",
    "model = ChatGroq(model = \"gemma2-9b-it\", groq_api_key = groq_api_key)\n",
    "model"
   ]
  },
  {
   "cell_type": "code",
   "execution_count": 7,
   "id": "a927d456",
   "metadata": {},
   "outputs": [
    {
     "data": {
      "text/plain": [
       "'The most common translation of \"Hello, how are you?\" in French is:\\n\\n**Bonjour, comment allez-vous ?** \\n\\n\\nYou can also use these variations:\\n\\n* **Salut, comment vas-tu ?** (informal, to someone you know well)\\n* **Bonsoir, comment allez-vous ?** (good evening, formal)\\n\\n\\n\\nLet me know if you have any other phrases you\\'d like translated! \\n'"
      ]
     },
     "execution_count": 7,
     "metadata": {},
     "output_type": "execute_result"
    }
   ],
   "source": [
    "from langchain_core.messages import HumanMessage, SystemMessage\n",
    "from langchain_core.output_parsers import StrOutputParser\n",
    "\n",
    "messages = [\n",
    "    SystemMessage(content = \"Translate the following from English to French\"),\n",
    "    HumanMessage(content = \"Hello how are you?\")\n",
    "]\n",
    "\n",
    "response = model.invoke(messages)\n",
    "parser = StrOutputParser()\n",
    "parser.invoke(response)\n"
   ]
  },
  {
   "cell_type": "code",
   "execution_count": 8,
   "id": "f8ecd525",
   "metadata": {},
   "outputs": [
    {
     "data": {
      "text/plain": [
       "'Bonjour, comment allez-vous? \\n\\n\\nThis is the most common and formal way to say \"Hello, how are you?\" in French. \\n'"
      ]
     },
     "execution_count": 8,
     "metadata": {},
     "output_type": "execute_result"
    }
   ],
   "source": [
    "# Chain the components using LCEL\n",
    "chain = model | parser\n",
    "chain.invoke(messages)"
   ]
  },
  {
   "cell_type": "code",
   "execution_count": 10,
   "id": "e27d2f9f",
   "metadata": {},
   "outputs": [
    {
     "data": {
      "text/plain": [
       "[SystemMessage(content='Translate the following into French', additional_kwargs={}, response_metadata={}),\n",
       " HumanMessage(content='Hello', additional_kwargs={}, response_metadata={})]"
      ]
     },
     "execution_count": 10,
     "metadata": {},
     "output_type": "execute_result"
    }
   ],
   "source": [
    "# Using Prompt Templates\n",
    "from langchain_core.prompts import ChatPromptTemplate\n",
    "\n",
    "generic_teplate = \"Translate the following into {language}\"\n",
    "\n",
    "promt = ChatPromptTemplate.from_messages([\n",
    "    ('system', generic_teplate),\n",
    "    ('user', \"{text}\")\n",
    "])\n",
    "\n",
    "result = promt.invoke({'language': 'French', 'text': 'Hello'})\n",
    "result.to_messages()"
   ]
  },
  {
   "cell_type": "code",
   "execution_count": 11,
   "id": "d205fdd9",
   "metadata": {},
   "outputs": [
    {
     "data": {
      "text/plain": [
       "'Bonjour \\n'"
      ]
     },
     "execution_count": 11,
     "metadata": {},
     "output_type": "execute_result"
    }
   ],
   "source": [
    "chain = promt | model | parser\n",
    "chain.invoke({'language': 'french','text': 'Hello'})"
   ]
  }
 ],
 "metadata": {
  "kernelspec": {
   "display_name": "Python 3",
   "language": "python",
   "name": "python3"
  },
  "language_info": {
   "codemirror_mode": {
    "name": "ipython",
    "version": 3
   },
   "file_extension": ".py",
   "mimetype": "text/x-python",
   "name": "python",
   "nbconvert_exporter": "python",
   "pygments_lexer": "ipython3",
   "version": "3.10.16"
  }
 },
 "nbformat": 4,
 "nbformat_minor": 5
}
